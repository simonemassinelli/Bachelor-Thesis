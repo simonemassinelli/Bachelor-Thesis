{
 "cells": [
  {
   "cell_type": "code",
   "execution_count": null,
   "id": "initial_id",
   "metadata": {
    "collapsed": true
   },
   "outputs": [],
   "source": [
    "# Aggregate data by date, inserting the mean of each day in the 'actual' column\n",
    "dataset_agg = dataset.groupby('date_c').agg({'actual': 'mean', 'date_c': 'count'})\n",
    "# Rename columns\n",
    "dataset_agg = dataset_agg.rename(columns={'actual': 'daily_mean', 'date_c': 'count'})\n",
    "# Create the deviation column\n",
    "dataset_agg['deviation'] = dataset_agg['daily_mean'] - qc_rows['nominal'].iloc[0]"
   ]
  },
  {
   "metadata": {},
   "cell_type": "code",
   "outputs": [],
   "execution_count": null,
   "source": [
    "# Convert the index of both DataFrames to DatetimeIndex\n",
    "df_pre_2024.index = pd.to_datetime(df_pre_2024['date_c'])\n",
    "df_2024.index = pd.to_datetime(df_2024['date_c'])\n",
    "\n",
    "# Create Pandas Series for the detrended data, using the DataFrames' DatetimeIndex\n",
    "detrended_pre_series = pd.Series(detrended_pre, index=df_pre_2024.index)\n",
    "detrended_2024_series = pd.Series(detrended_2024, index=df_2024.index)\n",
    "\n",
    "# Resample the detrended Series to daily frequency and interpolate missing values\n",
    "int_detrended_pre = detrended_pre_series.resample('D').interpolate()\n",
    "int_detrended_2024 = detrended_2024_series.resample('D').interpolate()\n",
    "\n",
    "# Extract the values from the resampled Series as NumPy arrays\n",
    "x_pre = int_detrended_pre.values\n",
    "x_2024 = int_detrended_2024.values\n",
    "\n",
    "# Define the sampling frequency (1 sample per day)\n",
    "fs = 1\n",
    "\n",
    "# Calculate the periodogram for the resampled data\n",
    "f_pre, p_pre = signal.periodogram(x_pre, fs)\n",
    "f_2024, p_2024 = signal.periodogram(x_2024, fs)\n",
    "\n",
    "# Create the figure\n",
    "fig = go.Figure()\n",
    "fig.add_trace(go.Scatter(x=f_pre, y=p_pre, mode='lines', name='Periodogram pre-2024'))\n",
    "fig.add_trace(go.Scatter(x=f_2024, y=p_2024, mode='lines', name='Periodogram 2024'))\n",
    "fig.update_layout(title='Periodogram of Detrended Interpolated Data',\n",
    "                  xaxis_title='Frequency (cycles/day)',\n",
    "                  yaxis_title='Power Spectral Density')\n",
    "fig.show()"
   ],
   "id": "755dccc00372f960"
  },
  {
   "metadata": {},
   "cell_type": "code",
   "outputs": [],
   "execution_count": null,
   "source": [
    "import numpy as np\n",
    "import matplotlib.pyplot as plt\n",
    "from astropy.timeseries import LombScargle\n",
    "from datetime import datetime, timedelta\n",
    "import random\n",
    "\n",
    "# 1. Generazione di date e orari casuali non uniformi\n",
    "def generate_random_times(n_points, start_date, end_date):\n",
    "    total_seconds = int((end_date - start_date).total_seconds())\n",
    "    random_seconds = sorted(random.sample(range(total_seconds), n_points))\n",
    "    datetimes = [start_date + timedelta(seconds=sec) for sec in random_seconds]\n",
    "    return datetimes\n",
    "\n",
    "# Parametri\n",
    "n_points = 100\n",
    "start = datetime(2023, 1, 1)\n",
    "end = datetime(2023, 3, 1)\n",
    "datetimes = generate_random_times(n_points, start, end)\n",
    "\n",
    "# 2. Conversione dei datetime in giorni (float) per Lomb-Scargle\n",
    "ref_time = datetimes[0]\n",
    "times = np.array([(dt - ref_time).total_seconds() / 86400.0 for dt in datetimes])  # giorni\n",
    "\n",
    "# 3. Segnale regolare (sinusoide pulita)\n",
    "true_period = 5.0  # giorni\n",
    "signal = np.sin(2 * np.pi * times / true_period)\n",
    "\n",
    "# 4. Lomb-Scargle\n",
    "frequency, power = LombScargle(times, signal).autopower()\n",
    "periods = 1 / frequency  # calcola i periodi corrispondenti alle frequenze\n",
    "\n",
    "\n",
    "# 5. Plot con Plotly\n",
    "\n",
    "# Primo grafico: segnale\n",
    "fig_signal = go.Figure()\n",
    "fig_signal.add_trace(go.Scatter(x=times, y=signal, mode='markers+lines', name='Segnale'))\n",
    "fig_signal.update_layout(\n",
    "    title='Segnale regolare (tempi irregolari)',\n",
    "    xaxis_title='Tempo (giorni)',\n",
    "    yaxis_title='Valore',\n",
    "    template='plotly_white'\n",
    ")\n",
    "\n",
    "# Secondo grafico: Lomb-Scargle\n",
    "fig_ls = go.Figure()\n",
    "fig_ls.add_trace(go.Scatter(x=periods, y=power, mode='lines', name='Lomb-Scargle'))\n",
    "fig_ls.add_trace(go.Scatter(\n",
    "    x=[true_period], y=[max(power)],\n",
    "    mode='markers',\n",
    "    marker=dict(color='red', size=10),\n",
    "    name=f'Periodo vero: {true_period} giorni'\n",
    "))\n",
    "fig_ls.update_layout(\n",
    "    title='Trasformata Lomb-Scargle',\n",
    "    xaxis_title='Periodo (giorni)',\n",
    "    yaxis_title='Potenza',\n",
    "    template='plotly_white'\n",
    ")\n",
    "\n",
    "# Mostra grafici\n",
    "fig_signal.show()\n",
    "fig_ls.show()"
   ],
   "id": "7e7af7a32bda4715"
  },
  {
   "metadata": {},
   "cell_type": "code",
   "outputs": [],
   "execution_count": null,
   "source": [
    "# Create the date to separate the data\n",
    "date_limit1 = pd.to_datetime('2023-09-25')\n",
    "date_limit2 = pd.to_datetime('2024-01-01')\n",
    "\n",
    "# Divide the data\n",
    "df_pre_2024 = dataset[dataset['date_c'] < date_limit1]\n",
    "df_2024 = dataset[dataset['date_c'] > date_limit2]\n",
    "\n",
    "# Detrend the two dataset\n",
    "detrended_pre = signal.detrend(df_pre_2024['deviation'])\n",
    "detrended_2024 = signal.detrend(df_2024['deviation'])\n",
    "\n",
    "# Create the figure of detrended values\n",
    "fig = go.Figure()\n",
    "fig.add_trace(go.Scatter(x=df_pre_2024['date_c'], y=detrended_pre, mode='lines+markers', name='Detrended pre-2024'))\n",
    "fig.add_trace(go.Scatter(x=df_2024['date_c'], y=detrended_2024, mode='lines+markers', name='Detrended 2024'))\n",
    "fig.update_layout(title='Detrended data', xaxis_title='Date', yaxis_title='Detrended value')\n",
    "fig.show()"
   ],
   "id": "cbe7ebc4fd0e1b75"
  },
  {
   "metadata": {},
   "cell_type": "code",
   "outputs": [],
   "execution_count": null,
   "source": [
    "# Initialize ChangeFinder object for change point detection\n",
    "cf = changefinder.ChangeFinder()\n",
    "\n",
    "# Extract measurement values and dates from the sorted DataFrame\n",
    "values = qc_rows['deviation']\n",
    "date = qc_rows['date_c']\n",
    "\n",
    "# Define the starting point for calculating change scores (index in the 'values' list)\n",
    "start_index = 50\n",
    "\n",
    "# Initialize an empty list for scores\n",
    "scores = [None] * len(values)  # Initialize with None for the initial period\n",
    "\n",
    "# Warm-up the ChangeFinder with initial data points and calculate scores from the start_index\n",
    "for i, v in enumerate(values):\n",
    "    change_score = cf.update(v)\n",
    "    if i >= start_index:\n",
    "        scores[i] = change_score  # Assign the return value of update() to scores\n",
    "\n",
    "\n",
    "# Create Plotly figure\n",
    "fig = go.Figure()\n",
    "fig.add_trace(go.Scatter(x=date, y=scores, mode='lines', line=dict(color='gray')))\n",
    "fig.update_layout(title='Change Score over Time (Starting from Index {})'.format(start_index),\n",
    "                  xaxis_title='Date',\n",
    "                  yaxis_title='Value')\n",
    "fig.show()"
   ],
   "id": "b6ec5a36ca6c24bc"
  },
  {
   "metadata": {
    "ExecuteTime": {
     "end_time": "2025-04-10T18:01:29.216475Z",
     "start_time": "2025-04-10T18:01:29.212727Z"
    }
   },
   "cell_type": "code",
   "source": [
    "for i in range (0,5):\n",
    "    print(i)"
   ],
   "id": "1e7a50a8c6367140",
   "outputs": [
    {
     "name": "stdout",
     "output_type": "stream",
     "text": [
      "0\n",
      "1\n",
      "2\n",
      "3\n",
      "4\n"
     ]
    }
   ],
   "execution_count": 1
  }
 ],
 "metadata": {
  "kernelspec": {
   "display_name": "Python 3",
   "language": "python",
   "name": "python3"
  },
  "language_info": {
   "codemirror_mode": {
    "name": "ipython",
    "version": 2
   },
   "file_extension": ".py",
   "mimetype": "text/x-python",
   "name": "python",
   "nbconvert_exporter": "python",
   "pygments_lexer": "ipython2",
   "version": "2.7.6"
  }
 },
 "nbformat": 4,
 "nbformat_minor": 5
}
